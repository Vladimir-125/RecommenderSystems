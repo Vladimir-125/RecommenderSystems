{
 "cells": [
  {
   "cell_type": "code",
   "execution_count": 34,
   "metadata": {},
   "outputs": [],
   "source": [
    "import numpy as np\n",
    "import pandas as pd\n",
    "\n",
    "movies = pd.read_csv('./data/movies_w_imgurl.csv');\n"
   ]
  },
  {
   "cell_type": "code",
   "execution_count": 37,
   "metadata": {},
   "outputs": [],
   "source": [
    "def jenres_representation(movies):\n",
    "    'Returns genres movie representation'\n",
    "    movie_representation = {} # final movie representation\n",
    "    total_count = len(movies)\n",
    "    genre_count = {}\n",
    "    \n",
    "    for genres in movies.genres:\n",
    "        genre_list = genres.split('|')\n",
    "        for genre in genre_list:\n",
    "            genre_count.setdefault(genre, 0) # create new element if not exist\n",
    "            genre_count[genre]+=1 # increment if exist\n",
    "\n",
    "    genre_list = list(genre_count.keys()) # create a list of keys\n",
    "    genre_list.sort()\n",
    "    dict_movies = dict(movies)\n",
    "    \n",
    "    for i in  range(len(dict_movies['movieId'])):\n",
    "        row = {}\n",
    "        for g in genre_list:\n",
    "            if g in dict_movies['genres'][i].split('|'):\n",
    "                IDF = np.log10((total_count/genre_count[g]))\n",
    "                row[g] = IDF\n",
    "            else:\n",
    "                row[g] = 0\n",
    "        movie_representation[dict_movies['movieId'][i]] = row\n",
    "        \n",
    "    return movie_representation"
   ]
  },
  {
   "cell_type": "code",
   "execution_count": 38,
   "metadata": {},
   "outputs": [
    {
     "data": {
      "text/plain": [
       "9125"
      ]
     },
     "execution_count": 38,
     "metadata": {},
     "output_type": "execute_result"
    }
   ],
   "source": [
    "movie_representation = jenres_representation(movies)\n",
    "len(movie_representation)"
   ]
  },
  {
   "cell_type": "code",
   "execution_count": 28,
   "metadata": {},
   "outputs": [],
   "source": [
    "f = open('out.txt', 'w')\n",
    "for entry in movie_representation:\n",
    "    f.write(str(entry))\n",
    "    \n",
    "f.close()"
   ]
  },
  {
   "cell_type": "code",
   "execution_count": 4,
   "metadata": {},
   "outputs": [],
   "source": [
    "movie_representation = []\n",
    "# add headers\n",
    "genre_temp = genre_list.copy() \n",
    "genre_temp.insert(0, 'movieId')\n",
    "movie_representation.append(genre_temp)\n",
    "\n",
    "dict_movies = dict(movies)\n",
    "for i in  range(len(dict_movies['movieId'])):\n",
    "    e = []\n",
    "    e.append(dict_movies['movieId'][i])\n",
    "    for g in genre_list:\n",
    "        if g in dict_movies['genres'][i].split('|'):\n",
    "            IDF = np.log10((total_count/genre_count[g]))\n",
    "            e.append(IDF)\n",
    "        else:\n",
    "            e.append(0)\n",
    "    movie_representation.append(e)"
   ]
  }
 ],
 "metadata": {
  "kernelspec": {
   "display_name": "Python 3",
   "language": "python",
   "name": "python3"
  },
  "language_info": {
   "codemirror_mode": {
    "name": "ipython",
    "version": 3
   },
   "file_extension": ".py",
   "mimetype": "text/x-python",
   "name": "python",
   "nbconvert_exporter": "python",
   "pygments_lexer": "ipython3",
   "version": "3.7.4"
  }
 },
 "nbformat": 4,
 "nbformat_minor": 2
}
