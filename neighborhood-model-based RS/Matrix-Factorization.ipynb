{
 "cells": [
  {
   "cell_type": "code",
   "execution_count": 5,
   "metadata": {},
   "outputs": [],
   "source": [
    "import numpy as np\n",
    "import pandas as pd\n",
    "\n",
    "test_ratings = pd.read_csv('./data/ratings_test.csv')\n",
    "train_ratings = pd.read_csv('./data/ratings_train.csv')"
   ]
  },
  {
   "cell_type": "code",
   "execution_count": 67,
   "metadata": {},
   "outputs": [],
   "source": [
    "def build_movie_repres(train_ratings):\n",
    "    movie_user = train_ratings.pivot('movieId', 'userId', 'rating')\n",
    "    movie_means = movie_user.mean(axis=1)\n",
    "    for i, col in enumerate(movie_user):\n",
    "        # using i allows for duplicate columns\n",
    "        # inplace *may* not always work here, so IMO the next line is preferred\n",
    "        # df.iloc[:, i].fillna(m, inplace=True)\n",
    "        movie_user.iloc[:, i] = movie_user.iloc[:, i].fillna(movie_means)\n",
    "    return movie_user\n",
    "def get_factors(movie_user, K):\n",
    "    u, s, vh = np.linalg.svd(movie_user, full_matrices=True)\n",
    "    # take k factors\n",
    "    #K = 400\n",
    "    U = u[:,:K]\n",
    "    S = np.diag(s[:K])\n",
    "    print(S[:5,:5])\n",
    "    VH = vh[:K, :]\n",
    "    P = U.dot(S)\n",
    "    return P, VH\n",
    "\n",
    "def get_prediction_svd(P, VH, movie_user, userId, movieId):\n",
    "    if not int(userId) in list(movie_user.columns):\n",
    "        print(\"Cannon predict for userId=\" + str(userId))\n",
    "        return 'unknown'\n",
    "    elif not int(movieId) in list(movie_user.index):\n",
    "        print(\"Cannot predict for movieId=\"+ str(movieId))\n",
    "        return 'unknown'\n",
    "    else:\n",
    "        user = movie_user.columns.get_loc(int(userId))\n",
    "        movie = movie_user.index.get_loc(int(movieId))\n",
    "        user_predicted_ratings = P.dot(VH[:,user])\n",
    "        return '{:.4f}'.format(user_predicted_ratings[movie])\n",
    "\n",
    "def calc_rmse_svd(test_ratings, train_raitings, movie_user, P, VH, userId):\n",
    "    test_user_ratings = test_ratings[test_ratings.userId == userId]\n",
    "    train_user_ratings = train_ratings[train_ratings.userId == userId]\n",
    "    # leave only movies that we can grade\n",
    "    unique = []\n",
    "    for i in test_user_ratings.movieId:\n",
    "        if i in movie_user.index:\n",
    "            unique.append(i)\n",
    "    test_user_ratings = test_user_ratings[test_user_ratings.movieId.isin(unique)]\n",
    "    movieIndexes = []\n",
    "    for i in test_user_ratings.movieId:\n",
    "        try:\n",
    "            movieIndexes.append(movie_user.index.get_loc(i))\n",
    "        except KeyError:\n",
    "            pass\n",
    "    # TODO: calc prediction rationgs fot the userId\n",
    "    user = movie_user.columns.get_loc(int(userId))\n",
    "    user_predicted_ratings = P.dot(VH[:,user])\n",
    "    predicted = np.take(user_predicted_ratings, movieIndexes)\n",
    "    m = len(predicted)\n",
    "    print(m)\n",
    "    err_square = (predicted - test_user_ratings.rating)**2\n",
    "    return (err_square.sum()/m)**(1/2)"
   ]
  },
  {
   "cell_type": "code",
   "execution_count": 68,
   "metadata": {},
   "outputs": [
    {
     "output_type": "stream",
     "name": "stdout",
     "text": "[[6830.75934698    0.            0.            0.            0.        ]\n [   0.           49.76301992    0.            0.            0.        ]\n [   0.            0.           43.23012408    0.            0.        ]\n [   0.            0.            0.           39.72511021    0.        ]\n [   0.            0.            0.            0.           37.76308621]]\n205\n"
    },
    {
     "output_type": "execute_result",
     "data": {
      "text/plain": "0.7851174615775267"
     },
     "metadata": {},
     "execution_count": 68
    }
   ],
   "source": [
    "userId = 73\n",
    "p, vh = get_factors(movie_user, 363)\n",
    "movie_user = build_movie_repres(train_ratings)\n",
    "calc_rmse_svd(test_ratings, train_ratings, movie_user, p, vh, userId)"
   ]
  },
  {
   "cell_type": "code",
   "execution_count": 56,
   "metadata": {},
   "outputs": [
    {
     "output_type": "stream",
     "name": "stdout",
     "text": "i= 450 optimal= 450\ni= 440 optimal= 440\ni= 430 optimal= 439\ni= 420 optimal= 439\ni= 410 optimal= 439\ni= 400 optimal= 439\ni= 390 optimal= 439\ni= 380 optimal= 439\ni= 370 optimal= 373\ni= 360 optimal= 363\ni= 350 optimal= 363\ni= 340 optimal= 363\ni= 330 optimal= 363\ni= 320 optimal= 363\ni= 310 optimal= 363\ni= 300 optimal= 363\ni= 290 optimal= 363\ni= 280 optimal= 363\ni= 270 optimal= 363\ni= 260 optimal= 363\ni= 250 optimal= 363\ni= 240 optimal= 363\ni= 230 optimal= 363\ni= 220 optimal= 363\ni= 210 optimal= 363\ni= 200 optimal= 363\ni= 190 optimal= 363\ni= 180 optimal= 363\ni= 170 optimal= 173\ni= 160 optimal= 163\ni= 150 optimal= 150\ni= 140 optimal= 150\ni= 130 optimal= 132\ni= 120 optimal= 132\ni= 110 optimal= 132\ni= 100 optimal= 132\ni= 90 optimal= 132\ni= 80 optimal= 85\ni= 70 optimal= 73\ni= 60 optimal= 73\ni= 50 optimal= 73\ni= 40 optimal= 73\ni= 30 optimal= 73\ni= 20 optimal= 73\ni= 10 optimal= 73\n73\n"
    }
   ],
   "source": [
    "min = 55\n",
    "optimal = 999\n",
    "for i in range(450, 0, -1):\n",
    "    userId = 73\n",
    "    p, vh = get_factors(movie_user, i)\n",
    "    movie_user = build_movie_repres(train_ratings)\n",
    "    temp = calc_rmse_svd(test_ratings, train_ratings, movie_user, p, vh, userId)\n",
    "    if temp < min:\n",
    "        min = temp\n",
    "        optimal = i\n",
    "    if(i%10==0):\n",
    "        print('i= ' + str(i) + ' optimal= ' + str(optimal))\n",
    "print(optimal)"
   ]
  },
  {
   "cell_type": "code",
   "execution_count": 38,
   "metadata": {},
   "outputs": [
    {
     "output_type": "stream",
     "name": "stdout",
     "text": "1,31,2.4925\n2,10,4.0696\n3,1235,3.8405\n4,10,4.021\n"
    }
   ],
   "source": [
    "ids = [['1', '31'], ['2', '10'], ['3', '1235'], ['4', '10']]\n",
    "movie_user = build_movie_repres(train_ratings)\n",
    "P, VH = get_factors(movie_user)\n",
    "for i in ids:\n",
    "    rate = get_prediction_svd(P, VH, movie_user, i[0], i[1])\n",
    "    print('{},{},{}'.format(i[0], i[1], rate))\n",
    "\n"
   ]
  },
  {
   "cell_type": "code",
   "execution_count": 177,
   "metadata": {},
   "outputs": [
    {
     "data": {
      "text/plain": [
       "0.6295180759671316"
      ]
     },
     "execution_count": 177,
     "metadata": {},
     "output_type": "execute_result"
    }
   ],
   "source": [
    "userId = 1\n",
    "test_user_ratings = test_ratings[test_ratings.userId == userId]\n",
    "train_user_ratings = train_ratings[train_ratings.userId == userId]\n",
    "count = 0\n",
    "unique = []\n",
    "for i in test_user_ratings.movieId:\n",
    "    if i not in train_user_ratings.movieId:\n",
    "        unique.append(i)\n",
    "# remove movies that are in train_raitings        \n",
    "test_user_ratings = test_user_ratings[test_user_ratings.movieId.isin(unique)]\n",
    "# test_user_ratings now has movies that he has not graded in train_set\n",
    "# but this movies might not be in movie_user representating. Thus, drop those movies from test_user_ratings that are not\n",
    "# in movie_users representation\n",
    "unique = []\n",
    "for i in test_user_ratings.movieId:\n",
    "    if i in movie_user.index:\n",
    "        unique.append(i)\n",
    "test_user_ratings = test_user_ratings[test_user_ratings.movieId.isin(unique)]\n",
    "\n",
    "movieIndexes = []\n",
    "for i in test_user_ratings.movieId:\n",
    "    try:\n",
    "        movieIndexes.append(movie_user.index.get_loc(i))\n",
    "    except KeyError:\n",
    "        pass\n",
    "\n",
    "predicted = np.take(user_predicted_ratings, movieIndexes)\n",
    "err_square = (predicted - test_user_ratings.rating)**2\n",
    "err_square.sum()/197\n",
    "user_predicted_ratings.std()"
   ]
  },
  {
   "cell_type": "code",
   "execution_count": 48,
   "metadata": {},
   "outputs": [
    {
     "output_type": "execute_result",
     "data": {
      "text/plain": "1"
     },
     "metadata": {},
     "execution_count": 48
    }
   ],
   "source": [
    "5//4"
   ]
  }
 ],
 "metadata": {
  "kernelspec": {
   "display_name": "Python 3",
   "language": "python",
   "name": "python3"
  },
  "language_info": {
   "codemirror_mode": {
    "name": "ipython",
    "version": 3
   },
   "file_extension": ".py",
   "mimetype": "text/x-python",
   "name": "python",
   "nbconvert_exporter": "python",
   "pygments_lexer": "ipython3",
   "version": "3.7.4-final"
  }
 },
 "nbformat": 4,
 "nbformat_minor": 2
}