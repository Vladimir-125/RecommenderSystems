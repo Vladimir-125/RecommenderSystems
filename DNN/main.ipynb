{
 "cells": [
  {
   "cell_type": "code",
   "execution_count": 62,
   "metadata": {},
   "outputs": [],
   "source": [
    "import pandas as pd\n",
    "import numpy as np\n",
    "\n",
    "train   = pd.read_csv('./data/ratings_train.csv')\n",
    "vali    = pd.read_csv('./data/ratings_vali.csv') "
   ]
  },
  {
   "cell_type": "code",
   "execution_count": 31,
   "metadata": {},
   "outputs": [],
   "source": [
    "movie_user = train.pivot('userId', 'movieId', 'rating')\n",
    "movie_user =  movie_user.fillna(0.0)\n",
    "ratings = movie_user.to_numpy()"
   ]
  },
  {
   "cell_type": "code",
   "execution_count": 60,
   "metadata": {
    "tags": []
   },
   "outputs": [
    {
     "output_type": "stream",
     "name": "stdout",
     "text": "Epoch: 1, loss: 1.9806071222109287\nEpoch: 2, loss: 1.3336575415978145\nEpoch: 3, loss: 1.813534037116158\nEpoch: 4, loss: 1.5921745781766408\nEpoch: 5, loss: 1.4875911936653385\nEpoch: 6, loss: 1.8861634648731136\nEpoch: 7, loss: 1.3151973085461273\nEpoch: 8, loss: 1.883840241640437\nEpoch: 9, loss: 1.4914070424214108\nEpoch: 10, loss: 1.5879191761626161\nEpoch: 11, loss: 1.81698696844556\nEpoch: 12, loss: 1.332249520106191\nEpoch: 13, loss: 1.9242112372759732\nEpoch: 14, loss: 1.4058433598151345\nEpoch: 15, loss: 1.6923320386996934\nEpoch: 16, loss: 1.725541415648188\nEpoch: 17, loss: 1.3828504001249438\nEpoch: 18, loss: 1.9300682838576768\nEpoch: 19, loss: 1.345343642159231\nEpoch: 20, loss: 1.788851893539892\nEpoch: 21, loss: 1.6223568647146036\nEpoch: 22, loss: 1.4645156243454782\nEpoch: 23, loss: 1.7875130864298876\nEpoch: 24, loss: 1.3578819988558835\nEpoch: 25, loss: 1.763399062439431\nEpoch: 26, loss: 1.5060143126365442\nEpoch: 27, loss: 1.5367380805116995\nEpoch: 28, loss: 1.7421406012666705\nEpoch: 29, loss: 1.3633062691112487\nEpoch: 30, loss: 1.7996412284433219\nEpoch: 31, loss: 1.4391548877033304\nEpoch: 32, loss: 1.6136985974029032\nEpoch: 33, loss: 1.6785676265836191\nEpoch: 34, loss: 1.3941254459465982\nEpoch: 35, loss: 1.8110711757607343\nEpoch: 36, loss: 1.3889511582534964\nEpoch: 37, loss: 1.6872307003297395\nEpoch: 38, loss: 1.6040961971084595\nEpoch: 39, loss: 1.4467793237162383\nEpoch: 40, loss: 1.7964143253959892\nEpoch: 41, loss: 1.3611844424383968\nEpoch: 42, loss: 1.7489030911406334\nEpoch: 43, loss: 1.527303380300103\nEpoch: 44, loss: 1.5151719270893085\nEpoch: 45, loss: 1.757354937813182\nEpoch: 46, loss: 1.3590563426368534\nEpoch: 47, loss: 1.7915881032861989\nEpoch: 48, loss: 1.4570484050742618\nEpoch: 49, loss: 1.5914500487618723\nEpoch: 50, loss: 1.6983891509221514\n"
    }
   ],
   "source": [
    "import numpy as np\n",
    "from scipy.sparse import rand as sprand\n",
    "import torch\n",
    "import pandas as pd\n",
    "\n",
    "DEVICE = torch.device('cuda' if torch.cuda.is_available() else 'cpu')\n",
    "\n",
    "# open training file\n",
    "train   = pd.read_csv('./data/ratings_train.csv')\n",
    "# open validation file\n",
    "vali    = pd.read_csv('./data/ratings_vali.csv') \n",
    "\n",
    "# create user-movie matrix\n",
    "user_movie = train.pivot('userId', 'movieId', 'rating')\n",
    "# fill empty values with 0\n",
    "user_movie =  user_movie.fillna(0.0)\n",
    "\n",
    "# Make up some random explicit feedback ratings\n",
    "# and convert to a numpy array\n",
    "n_users = len(train.userId.unique())\n",
    "n_items = len(train.movieId.unique())\n",
    "userIds = list(user_movie.index)\n",
    "movieIds = list(user_movie.columns)\n",
    "# convert to numpy\n",
    "ratings = user_movie.to_numpy()\n",
    "\n",
    "class DenseNet(torch.nn.Module):\n",
    "\n",
    "    def __init__(self, n_users, n_items):\n",
    "        super().__init__()\n",
    "   \t# user and item embedding layers\n",
    "        factor_len = 5\n",
    "        self.user_factors = torch.nn.Embedding(n_users, factor_len)\n",
    "        self.item_factors = torch.nn.Embedding(n_items, factor_len)\n",
    "   \t    # linear layers\n",
    "        self.inputs = torch.nn.Linear(factor_len*2, 50)\n",
    "        # hidden liers\n",
    "        self.linear1 = torch.nn.Linear(50, 30)\n",
    "        self.linear2 = torch.nn.Linear(30, 20)\n",
    "        # output lyer\n",
    "        self.outputs = torch.nn.Linear(20, 1)\n",
    "\n",
    "        self.to(DEVICE)\n",
    "\n",
    "    def forward(self, users, items, dim):\n",
    "        users_embedding = self.user_factors(users)\n",
    "        items_embedding = self.item_factors(items)\n",
    "\t# concatenate user and item embeddings to form input\n",
    "        x = torch.cat([users_embedding, items_embedding], dim)\n",
    "        x = torch.relu(self.inputs(x))\n",
    "        x = torch.relu(self.linear1(x))\n",
    "        x = torch.relu(self.linear2(x))\n",
    "        output_scores = self.outputs(x)\n",
    "        return output_scores\n",
    "\n",
    "    # def predict(self, users, items):\n",
    "    #     # return the score\n",
    "    #     output_scores = self.forward(users, items)\n",
    "    #     return output_scores\n",
    "def batch(iterable1, iterable2, n=1):\n",
    "    l = len(iterable1)\n",
    "    for ndx in range(0, l, n):\n",
    "        yield iterable1[ndx:min(ndx + n, l)], iterable2[ndx:min(ndx + n, l)]\n",
    "\n",
    "# model instance\n",
    "model = DenseNet(n_users, n_items)\n",
    "# model.load_state_dict(torch.load('./param.data'))\n",
    "# model.eval()\n",
    "\n",
    "def train():\n",
    "    # loss function\n",
    "    loss_func = torch.nn.MSELoss()\n",
    "\n",
    "    optimizer = torch.optim.SGD(model.parameters(), \n",
    "                                lr=0.0005) # learning rate\n",
    "\n",
    "    # Get indexes of nonzero elements (row indexes, col indexes)\n",
    "    rows, cols = ratings.nonzero()\n",
    "\n",
    "    # randomly shuffle array\n",
    "    p = np.random.permutation(len(rows)) # returns shuffled indexes\n",
    "    rows, cols = rows[p], cols[p]\n",
    "\n",
    "    for epoch in range(50):\n",
    "        loss_sum = 0\n",
    "        batch_num = 1\n",
    "        for row, col in batch(rows, cols, 5):\n",
    "            # Turn data into tensors\n",
    "            rating = torch.FloatTensor(ratings[row, col]).to(DEVICE)\n",
    "            #print(rating)\n",
    "            row = torch.LongTensor([row]).to(DEVICE)\n",
    "            col = torch.LongTensor([col]).to(DEVICE)\n",
    "            \n",
    "            # Predict and calculate loss\n",
    "            prediction = model(row, col, 2)\n",
    "            loss = loss_func(prediction, rating)\n",
    "            # save total loss\n",
    "            loss_sum += loss.item()\n",
    "            batch_num += 1\n",
    "            # Backpropagate\n",
    "            loss.backward()\n",
    "            # Update the parameters\n",
    "            optimizer.step()\n",
    "        print('Epoch: {}, loss: {}'.format(epoch+1, loss_sum/batch_num))\n",
    "\n",
    "    torch.save(model.state_dict(), './param.data')\n",
    "\n",
    "def predict(uid, mid):\n",
    "    row = userIds.index(uid)\n",
    "    col = movieIds.index(mid)\n",
    "    print(row)\n",
    "    print(col)\n",
    "    row = torch.LongTensor([row]).to(DEVICE)\n",
    "    col = torch.LongTensor([col]).to(DEVICE)\n",
    "    prediction = model(row, col, 1)\n",
    "    return prediction\n",
    "\n",
    "train()"
   ]
  },
  {
   "cell_type": "code",
   "execution_count": 9,
   "metadata": {
    "tags": []
   },
   "outputs": [
    {
     "output_type": "stream",
     "name": "stdout",
     "text": "[1, 2, 3] [1, 2, 3]\n[4, 5, 6] [4, 5, 6]\n[7, 8, 9] [7, 8, 9]\n[10] [10]\n"
    }
   ],
   "source": [
    "def batch(iterable1, iterable2, n=1):\n",
    "    l = len(iterable1)\n",
    "    for ndx in range(0, l, n):\n",
    "        yield iterable1[ndx:min(ndx + n, l)], iterable2[ndx:min(ndx + n, l)]\n",
    "\n",
    "l1 = [1,2,3,4,5,6,7,8,9,10]\n",
    "l2 = [1,2,3,4,5,6,7,8,9,10]\n",
    "\n",
    "for r,c in batch(l1,l2, 3):\n",
    "    print(r,c)"
   ]
  }
 ],
 "metadata": {
  "language_info": {
   "codemirror_mode": {
    "name": "ipython",
    "version": 3
   },
   "file_extension": ".py",
   "mimetype": "text/x-python",
   "name": "python",
   "nbconvert_exporter": "python",
   "pygments_lexer": "ipython3",
   "version": "3.8.3-final"
  },
  "orig_nbformat": 2,
  "kernelspec": {
   "name": "python38364bittorchcondab4423e7d108945aa92c779f548a599b3",
   "display_name": "Python 3.8.3 64-bit ('torch': conda)"
  }
 },
 "nbformat": 4,
 "nbformat_minor": 2
}